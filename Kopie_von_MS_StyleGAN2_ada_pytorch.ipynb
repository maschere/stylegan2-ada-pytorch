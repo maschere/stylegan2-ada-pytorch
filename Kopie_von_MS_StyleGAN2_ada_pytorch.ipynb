{
  "nbformat": 4,
  "nbformat_minor": 0,
  "metadata": {
    "accelerator": "GPU",
    "colab": {
      "name": "Kopie von MS_StyleGAN2-ada-pytorch.ipynb",
      "provenance": [],
      "collapsed_sections": [],
      "authorship_tag": "ABX9TyOtLiG9Qorp7fB3LWH+N/o5",
      "include_colab_link": true
    },
    "kernelspec": {
      "display_name": "Python 3",
      "name": "python3"
    },
    "language_info": {
      "name": "python"
    }
  },
  "cells": [
    {
      "cell_type": "markdown",
      "metadata": {
        "id": "view-in-github",
        "colab_type": "text"
      },
      "source": [
        "<a href=\"https://colab.research.google.com/github/maschere/stylegan2-ada-pytorch/blob/main/Kopie_von_MS_StyleGAN2_ada_pytorch.ipynb\" target=\"_parent\"><img src=\"https://colab.research.google.com/assets/colab-badge.svg\" alt=\"Open In Colab\"/></a>"
      ]
    },
    {
      "cell_type": "code",
      "metadata": {
        "id": "ySKhelasCYBQ"
      },
      "source": [
        "import torch\n",
        " \n",
        "torch.cuda.get_device_name(device=None)"
      ],
      "execution_count": null,
      "outputs": []
    },
    {
      "cell_type": "code",
      "metadata": {
        "id": "d6F_enq2srK_"
      },
      "source": [
        "from google.colab import drive\n",
        "drive.mount('/content/drive',force_remount=True)"
      ],
      "execution_count": null,
      "outputs": []
    },
    {
      "cell_type": "code",
      "metadata": {
        "id": "-vB6-syYUUUq"
      },
      "source": [
        "# clone sg2\n",
        "!pip install ninja wandb\n",
        "!git clone https://github.com/maschere/stylegan2-ada-pytorch.git\n",
        "%cd stylegan2-ada-pytorch/"
      ],
      "execution_count": null,
      "outputs": []
    },
    {
      "cell_type": "code",
      "metadata": {
        "id": "tufEahmB_jS9"
      },
      "source": [
        "# download dataset for fine tuning"
      ],
      "execution_count": null,
      "outputs": []
    },
    {
      "cell_type": "code",
      "metadata": {
        "id": "jbuZJLg7Ht0P"
      },
      "source": [
        "!python dataset_tool.py --source=path to images --dest=images.zip --channels=4"
      ],
      "execution_count": null,
      "outputs": []
    },
    {
      "cell_type": "code",
      "metadata": {
        "id": "WPasxihPISHa"
      },
      "source": [
        "!python train.py --outdir=\"/content/drive/MyDrive/Colab Notebooks/run_data\" --data=tokens.zip --mirror=1 --cfg=\"11gb-gpu\" --augpipe=bg --snap=11 --kimg=1000 --workers=2 --cond=0 --nobench=True --metrics=none --resume=\"finetune.pkl\""
      ],
      "execution_count": null,
      "outputs": []
    }
  ]
}